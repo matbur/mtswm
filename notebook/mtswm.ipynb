{
 "cells": [
  {
   "cell_type": "code",
   "execution_count": 1,
   "metadata": {
    "extensions": {
     "jupyter_dashboards": {
      "version": 1,
      "views": {
       "grid_default": {
        "hidden": true
       },
       "report_default": {
        "hidden": true
       }
      }
     }
    }
   },
   "outputs": [],
   "source": [
    "import ipywidgets as widgets\n",
    "from ipywidgets import BoundedFloatText, HBox, VBox, Button, Label, interactive\n",
    "from IPython.display import display, clear_output, Javascript\n",
    "import matplotlib.pyplot as plt\n",
    "import numpy as np\n",
    "\n",
    "\n",
    "% matplotlib inline"
   ]
  },
  {
   "cell_type": "markdown",
   "metadata": {
    "extensions": {
     "jupyter_dashboards": {
      "version": 1,
      "views": {
       "grid_default": {
        "col": 0,
        "height": 25,
        "hidden": false,
        "row": 0,
        "width": null
       },
       "report_default": {
        "hidden": false
       }
      }
     }
    }
   },
   "source": [
    "# Równanie stężenia przy wlewie dokomparmentowym\n",
    "\n",
    "\\begin{equation}\n",
    "\\Large\n",
    "c(t) = \\frac{q}{k \\cdot V} (1 - e^{-kt})\n",
    "\\end{equation}\n",
    "\n",
    "## Stała prędkość wlewu\n",
    "\n",
    "$$\n",
    "\\Large\n",
    "q = 1 ml / min\n",
    "$$\n",
    "## Dane zmierzone na pacjencie\n",
    "\n",
    "$$\n",
    "\\begin{array}{c|r|l}\n",
    "& \\large t [min] & \\large c [mg/ml] \\\\\n",
    "\\hline\n",
    "1 & 10 & 0.0019 \\\\\n",
    "2 & 30 & 0.0052 \\\\\n",
    "3 & 120 & 0.0140 \\\\\n",
    "\\end{array}\n",
    "$$\n",
    "\n",
    "## Szukane wartości\n",
    "\n",
    "$$\n",
    "\\Large\n",
    "k, V = ?\n",
    "$$\n",
    "\n",
    "# Zadanie: zminimalizować funkcję błędu kwadratowego \n",
    "\n",
    "## Błąd średnio kwadratowy\n",
    "\n",
    "\\begin{equation}\n",
    "\\Large\n",
    "Q(k, V) = \\sum_{i=1}^{3} (c(t_i, k, V) - c_i) ^ 2\n",
    "\\end{equation}\n",
    "\n",
    "\n",
    "$$\n",
    "\\Large\n",
    "\\min_{k, V} Q = ?\n",
    "$$"
   ]
  },
  {
   "cell_type": "code",
   "execution_count": 2,
   "metadata": {
    "extensions": {
     "jupyter_dashboards": {
      "version": 1,
      "views": {
       "grid_default": {
        "hidden": true
       },
       "report_default": {
        "hidden": true
       }
      }
     }
    }
   },
   "outputs": [],
   "source": [
    "def c_t(t, q, k, v):\n",
    "    return q * (1 - np.exp(-k * t)) / (k * v)\n",
    "\n",
    "\n",
    "def t_c(c, q, k, v):\n",
    "    return np.log(1 - c * k * v / q) / -k\n",
    "\n",
    "\n",
    "def Q(c_i, t_i, q, k, v):\n",
    "    return np.sum((c_t(t_i, q, k, v) - c_i) ** 2)\n",
    "\n",
    "t_i = np.array([10., 30., 120.])\n",
    "c_i = np.array([.0019, .0052, .0140])\n",
    "\n",
    "c = .0052\n",
    "t = 30\n",
    "q = 1\n",
    "k = .01\n",
    "v = 5000"
   ]
  },
  {
   "cell_type": "code",
   "execution_count": 3,
   "metadata": {
    "extensions": {
     "jupyter_dashboards": {
      "version": 1,
      "views": {
       "grid_default": {
        "col": 0,
        "height": 6,
        "hidden": false,
        "row": 25,
        "width": null
       },
       "report_default": {
        "hidden": false
       }
      }
     }
    }
   },
   "outputs": [
    {
     "data": {
      "application/vnd.jupyter.widget-view+json": {
       "model_id": "57262fa92c4d4fe0b7af93e1d10a681a",
       "version_major": 2,
       "version_minor": 0
      },
      "text/html": [
       "<p>Failed to display Jupyter Widget of type <code>interactive</code>.</p>\n",
       "<p>\n",
       "  If you're reading this message in the Jupyter Notebook or JupyterLab Notebook, it may mean\n",
       "  that the widgets JavaScript is still loading. If this message persists, it\n",
       "  likely means that the widgets JavaScript library is either not installed or\n",
       "  not enabled. See the <a href=\"https://ipywidgets.readthedocs.io/en/stable/user_install.html\">Jupyter\n",
       "  Widgets Documentation</a> for setup instructions.\n",
       "</p>\n",
       "<p>\n",
       "  If you're reading this message in another frontend (for example, a static\n",
       "  rendering on GitHub or <a href=\"https://nbviewer.jupyter.org/\">NBViewer</a>),\n",
       "  it may mean that your frontend doesn't currently support widgets.\n",
       "</p>\n"
      ],
      "text/plain": [
       "interactive(children=(BoundedFloatText(value=0.01, description='k', min=0.001, step=0.001), BoundedFloatText(value=5000.0, description='V [ml]', max=10000.0, min=1.0), Output()), _dom_classes=('widget-interact',))"
      ]
     },
     "metadata": {},
     "output_type": "display_data"
    }
   ],
   "source": [
    "kw = BoundedFloatText(value=k, min=.001, step=.001, description='k')\n",
    "vw = BoundedFloatText(value=v, min=1, max=1e4, description='V [ml]')\n",
    "\n",
    "\n",
    "def f_k_v(kk, vv):\n",
    "    global k, v\n",
    "    k = kk\n",
    "    v = vv\n",
    "    qq = Q(c_i, t_i, q, k, v)\n",
    "    \n",
    "    lab = Label(f'$$ \\large Q({k:.3f}, {v}) = {qq:.12f} $$')\n",
    "    display(lab)\n",
    "    display(Javascript('IPython.notebook.execute_cells_below()'))\n",
    "\n",
    "interactive(f_k_v, kk=kw, vv=vw)"
   ]
  },
  {
   "cell_type": "code",
   "execution_count": 53,
   "metadata": {
    "extensions": {
     "jupyter_dashboards": {
      "version": 1,
      "views": {
       "grid_default": {
        "col": 0,
        "height": 13,
        "hidden": false,
        "row": 31,
        "width": 12
       },
       "report_default": {
        "hidden": false
       }
      }
     }
    }
   },
   "outputs": [
    {
     "data": {
      "application/vnd.jupyter.widget-view+json": {
       "model_id": "0d6c8005f61e48f484c71c94295d5004",
       "version_major": 2,
       "version_minor": 0
      },
      "text/html": [
       "<p>Failed to display Jupyter Widget of type <code>interactive</code>.</p>\n",
       "<p>\n",
       "  If you're reading this message in the Jupyter Notebook or JupyterLab Notebook, it may mean\n",
       "  that the widgets JavaScript is still loading. If this message persists, it\n",
       "  likely means that the widgets JavaScript library is either not installed or\n",
       "  not enabled. See the <a href=\"https://ipywidgets.readthedocs.io/en/stable/user_install.html\">Jupyter\n",
       "  Widgets Documentation</a> for setup instructions.\n",
       "</p>\n",
       "<p>\n",
       "  If you're reading this message in another frontend (for example, a static\n",
       "  rendering on GitHub or <a href=\"https://nbviewer.jupyter.org/\">NBViewer</a>),\n",
       "  it may mean that your frontend doesn't currently support widgets.\n",
       "</p>\n"
      ],
      "text/plain": [
       "interactive(children=(BoundedFloatText(value=1.0, description='q [ml/min]', min=0.1, step=0.1), Output()), _dom_classes=('widget-interact',))"
      ]
     },
     "metadata": {},
     "output_type": "display_data"
    }
   ],
   "source": [
    "x = np.arange(400)\n",
    "qw = BoundedFloatText(value=q, min=.1, step=.1, description='q [ml/min]')\n",
    "\n",
    "\n",
    "def f_q(qq):\n",
    "    global q\n",
    "    q = qq\n",
    "    y = c_t(x, q, k, v)\n",
    "    \n",
    "    fig, ax = plt.subplots()\n",
    "    ax.set_title('Stężenie od czasu')\n",
    "    ax.set_xlabel('czas [min]')\n",
    "    ax.set_ylabel('stężenie [mg/ml]')\n",
    "    for i, j in zip(t_i, c_i):\n",
    "        ax.scatter(i, j, label=f'$t={i} min$')\n",
    "    ax.legend()\n",
    "    ax.plot(x, y)\n",
    "    plt.show()\n",
    "    display(Javascript('IPython.notebook.execute_cells_below()'))\n",
    "\n",
    "interactive(f_q, qq=qw)"
   ]
  },
  {
   "cell_type": "markdown",
   "metadata": {
    "extensions": {
     "jupyter_dashboards": {
      "version": 1,
      "views": {
       "grid_default": {
        "col": 0,
        "height": 4,
        "hidden": false,
        "row": 44,
        "width": 12
       },
       "report_default": {
        "hidden": false
       }
      }
     }
    }
   },
   "source": [
    "# Wybierz czas, by sprawdzić, jakie będzie stężenie"
   ]
  },
  {
   "cell_type": "code",
   "execution_count": 54,
   "metadata": {
    "extensions": {
     "jupyter_dashboards": {
      "version": 1,
      "views": {
       "grid_default": {
        "col": 0,
        "height": 5,
        "hidden": false,
        "row": 57,
        "width": null
       },
       "report_default": {
        "hidden": false
       }
      }
     }
    },
    "scrolled": true
   },
   "outputs": [
    {
     "data": {
      "application/vnd.jupyter.widget-view+json": {
       "model_id": "a50e8369560846318eb957bd0fcdcba3",
       "version_major": 2,
       "version_minor": 0
      },
      "text/html": [
       "<p>Failed to display Jupyter Widget of type <code>interactive</code>.</p>\n",
       "<p>\n",
       "  If you're reading this message in the Jupyter Notebook or JupyterLab Notebook, it may mean\n",
       "  that the widgets JavaScript is still loading. If this message persists, it\n",
       "  likely means that the widgets JavaScript library is either not installed or\n",
       "  not enabled. See the <a href=\"https://ipywidgets.readthedocs.io/en/stable/user_install.html\">Jupyter\n",
       "  Widgets Documentation</a> for setup instructions.\n",
       "</p>\n",
       "<p>\n",
       "  If you're reading this message in another frontend (for example, a static\n",
       "  rendering on GitHub or <a href=\"https://nbviewer.jupyter.org/\">NBViewer</a>),\n",
       "  it may mean that your frontend doesn't currently support widgets.\n",
       "</p>\n"
      ],
      "text/plain": [
       "interactive(children=(BoundedFloatText(value=30.0, description='t [min]'), Output()), _dom_classes=('widget-interact',))"
      ]
     },
     "metadata": {},
     "output_type": "display_data"
    }
   ],
   "source": [
    "tw = BoundedFloatText(value=t, min=0, max=100, description='t [min]')\n",
    "\n",
    "\n",
    "def f_t(tt):\n",
    "    global c, t\n",
    "    t = tt\n",
    "    c = c_t(t, q, k, v)\n",
    "    \n",
    "    lab = Label(f'$$ \\large c(t={t:.0f} \\space min) = {c:.4f} \\space mg/ml $$')\n",
    "    display(lab)\n",
    "    display(Javascript('IPython.notebook.execute_cells_below()'))\n",
    "    \n",
    "interactive(f_t, tt=tw)"
   ]
  },
  {
   "cell_type": "markdown",
   "metadata": {
    "extensions": {
     "jupyter_dashboards": {
      "version": 1,
      "views": {
       "grid_default": {
        "col": 0,
        "height": 4,
        "hidden": false,
        "row": 48,
        "width": 12
       },
       "report_default": {
        "hidden": false
       }
      }
     }
    }
   },
   "source": [
    "# Sprawdź, po jakim czasie, będzie żądane stężenie"
   ]
  },
  {
   "cell_type": "code",
   "execution_count": 55,
   "metadata": {
    "extensions": {
     "jupyter_dashboards": {
      "version": 1,
      "views": {
       "grid_default": {
        "col": 0,
        "height": 5,
        "hidden": false,
        "row": 52,
        "width": null
       },
       "report_default": {
        "hidden": false
       }
      }
     }
    }
   },
   "outputs": [
    {
     "data": {
      "application/vnd.jupyter.widget-view+json": {
       "model_id": "e6d577c23a3546348b7d0b239bc591a8",
       "version_major": 2,
       "version_minor": 0
      },
      "text/html": [
       "<p>Failed to display Jupyter Widget of type <code>interactive</code>.</p>\n",
       "<p>\n",
       "  If you're reading this message in the Jupyter Notebook or JupyterLab Notebook, it may mean\n",
       "  that the widgets JavaScript is still loading. If this message persists, it\n",
       "  likely means that the widgets JavaScript library is either not installed or\n",
       "  not enabled. See the <a href=\"https://ipywidgets.readthedocs.io/en/stable/user_install.html\">Jupyter\n",
       "  Widgets Documentation</a> for setup instructions.\n",
       "</p>\n",
       "<p>\n",
       "  If you're reading this message in another frontend (for example, a static\n",
       "  rendering on GitHub or <a href=\"https://nbviewer.jupyter.org/\">NBViewer</a>),\n",
       "  it may mean that your frontend doesn't currently support widgets.\n",
       "</p>\n"
      ],
      "text/plain": [
       "interactive(children=(BoundedFloatText(value=0.0051836355863656425, description='c [mg/ml]', step=0.0001), Output()), _dom_classes=('widget-interact',))"
      ]
     },
     "metadata": {},
     "output_type": "display_data"
    }
   ],
   "source": [
    "cw = BoundedFloatText(value=c, step=.0001, description='c [mg/ml]')\n",
    "\n",
    "\n",
    "def f_c(cc):\n",
    "    global c, t\n",
    "    c = cc\n",
    "    t = t_c(c, q, k, v)\n",
    "    \n",
    "    lab = Label(f'$$ \\large c(t={t:.0f} \\space min) = {c:.4f} \\space mg/ml $$')\n",
    "    display(lab)\n",
    "    display(Javascript('IPython.notebook.execute_cells_below()'))\n",
    "    \n",
    "interactive(f_c, cc=cw)"
   ]
  },
  {
   "cell_type": "code",
   "execution_count": 63,
   "metadata": {
    "extensions": {
     "jupyter_dashboards": {
      "version": 1,
      "views": {
       "grid_default": {
        "col": 0,
        "height": 4,
        "hidden": false,
        "row": 62,
        "width": 4
       },
       "report_default": {
        "hidden": false
       }
      }
     }
    }
   },
   "outputs": [
    {
     "name": "stdout",
     "output_type": "stream",
     "text": [
      "c=0.0051836355863656425, t=30.0, q=1.0, k=0.01, V=5000.0\n"
     ]
    }
   ],
   "source": [
    "print(f'c={c}, t={t}, q={q}, k={k}, V={v}')"
   ]
  }
 ],
 "metadata": {
  "extensions": {
   "jupyter_dashboards": {
    "activeView": "report_default",
    "version": 1,
    "views": {
     "grid_default": {
      "cellMargin": 10,
      "defaultCellHeight": 20,
      "maxColumns": 12,
      "name": "grid",
      "type": "grid"
     },
     "report_default": {
      "name": "report",
      "type": "report"
     }
    }
   }
  },
  "kernelspec": {
   "display_name": "Python 3",
   "language": "python",
   "name": "python3"
  },
  "language_info": {
   "codemirror_mode": {
    "name": "ipython",
    "version": 3
   },
   "file_extension": ".py",
   "mimetype": "text/x-python",
   "name": "python",
   "nbconvert_exporter": "python",
   "pygments_lexer": "ipython3",
   "version": "3.6.2"
  }
 },
 "nbformat": 4,
 "nbformat_minor": 2
}
