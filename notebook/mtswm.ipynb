{
 "cells": [
  {
   "cell_type": "code",
   "execution_count": null,
   "metadata": {
    "extensions": {
     "jupyter_dashboards": {
      "version": 1,
      "views": {
       "grid_default": {
        "hidden": true
       },
       "report_default": {
        "hidden": true
       }
      }
     }
    }
   },
   "outputs": [],
   "source": [
    "import ipywidgets as widgets\n",
    "from ipywidgets import FloatText, HBox, VBox, Button, Label, interactive\n",
    "from IPython.display import display, clear_output\n",
    "import matplotlib.pyplot as plt\n",
    "import numpy as np\n",
    "\n",
    "% matplotlib inline"
   ]
  },
  {
   "cell_type": "markdown",
   "metadata": {
    "extensions": {
     "jupyter_dashboards": {
      "version": 1,
      "views": {
       "grid_default": {
        "col": 0,
        "height": 24,
        "hidden": false,
        "row": 0,
        "width": null
       },
       "report_default": {
        "hidden": false
       }
      }
     }
    }
   },
   "source": [
    "# Równanie stężenia przy wlewie dokomparmentowym\n",
    "\n",
    "\\begin{equation}\n",
    "\\Large\n",
    "c(t) = \\frac{q}{k \\cdot V} (1 - e^{-kt})\n",
    "\\end{equation}\n",
    "\n",
    "## Stała prędkość wlewu\n",
    "\n",
    "$$\n",
    "\\Large\n",
    "q = 1 ml / min\n",
    "$$\n",
    "## Dane zmierzone na pacjencie\n",
    "\n",
    "$$\n",
    "\\begin{array}{c|r|l}\n",
    "& \\large t [min] & \\large c [mg/ml] \\\\\n",
    "\\hline\n",
    "1 & 10 & 0.0019 \\\\\n",
    "2 & 30 & 0.0052 \\\\\n",
    "3 & 120 & 0.0140 \\\\\n",
    "\\end{array}\n",
    "$$\n",
    "\n",
    "## Szukane wartości\n",
    "\n",
    "$$\n",
    "\\Large\n",
    "k, V = ?\n",
    "$$\n",
    "\n",
    "# Zadanie: zminimalizować funkcję błędu kwadratowego \n",
    "\n",
    "## Błąd średnio kwadratowy\n",
    "\n",
    "\\begin{equation}\n",
    "\\Large\n",
    "Q(k, V) = \\sum_{i=1}^{3} (c(t_i, k, V) - c_i) ^ 2\n",
    "\\end{equation}\n",
    "\n",
    "\n",
    "$$\n",
    "\\Large\n",
    "\\min_{k, V} Q = ?\n",
    "$$"
   ]
  },
  {
   "cell_type": "code",
   "execution_count": null,
   "metadata": {
    "extensions": {
     "jupyter_dashboards": {
      "version": 1,
      "views": {
       "grid_default": {
        "hidden": true
       },
       "report_default": {
        "hidden": true
       }
      }
     }
    }
   },
   "outputs": [],
   "source": [
    "def c(t, q, k, v):\n",
    "    return q * (1 - np.exp(-k * t)) / (k * v)\n",
    "\n",
    "\n",
    "def Q(c_i, t_i, q, k, v):\n",
    "    return np.sum((c(t_i, q, k, v) - c_i) ** 2)\n",
    "\n",
    "\n",
    "q = 1\n",
    "t_i = np.array([10., 30., 120.])\n",
    "c_i = np.array([.0019, .0052, .0140])\n",
    "k = .01\n",
    "v = 5000"
   ]
  },
  {
   "cell_type": "code",
   "execution_count": null,
   "metadata": {
    "extensions": {
     "jupyter_dashboards": {
      "version": 1,
      "views": {
       "grid_default": {
        "col": 0,
        "height": 4,
        "hidden": false,
        "row": 24,
        "width": 4
       },
       "report_default": {
        "hidden": false
       }
      }
     }
    }
   },
   "outputs": [],
   "source": [
    "kw = FloatText(value=k, step=.001, description='k')\n",
    "vw = FloatText(value=v, description='V')\n",
    "\n",
    "def f(kk, vv):\n",
    "    global k, v\n",
    "    k = kk\n",
    "    v = vv\n",
    "    qq = Q(c_i, t_i, q, k, v)\n",
    "    lab = Label(f'''$$\n",
    "    \\large\n",
    "    Q({k:.3f}, {v}) = {qq:.12f}\n",
    "    $$''')\n",
    "    display(lab)\n",
    "\n",
    "# but.on_click(on_click)\n",
    "# display(vb)\n",
    "interactive(f, kk=kw, vv=vw)"
   ]
  },
  {
   "cell_type": "code",
   "execution_count": null,
   "metadata": {
    "extensions": {
     "jupyter_dashboards": {
      "version": 1,
      "views": {
       "grid_default": {
        "col": 4,
        "height": 10,
        "hidden": false,
        "row": 24,
        "width": 4
       },
       "report_default": {
        "hidden": false
       }
      }
     }
    }
   },
   "outputs": [],
   "source": [
    "x = np.arange(400)\n",
    "\n",
    "qw = FloatText(value=q, step=.1, description='q')\n",
    "\n",
    "def f(qq):\n",
    "    global q\n",
    "    q = qq\n",
    "\n",
    "    y = c(x, q, k, v)\n",
    "    fig, ax = plt.subplots()\n",
    "\n",
    "    ax.set_title('Stężenie od czasu')\n",
    "    ax.set_xlabel('czas [min]')\n",
    "    ax.set_ylabel('stężenie [mg/ml]')\n",
    "    ax.plot(x, y)\n",
    "\n",
    "    plt.show()\n",
    "\n",
    "interactive(f, qq=qw)"
   ]
  }
 ],
 "metadata": {
  "extensions": {
   "jupyter_dashboards": {
    "activeView": "report_default",
    "version": 1,
    "views": {
     "grid_default": {
      "cellMargin": 10,
      "defaultCellHeight": 20,
      "maxColumns": 12,
      "name": "grid",
      "type": "grid"
     },
     "report_default": {
      "name": "report",
      "type": "report"
     }
    }
   }
  },
  "kernelspec": {
   "display_name": "Python 3",
   "language": "python",
   "name": "python3"
  },
  "language_info": {
   "codemirror_mode": {
    "name": "ipython",
    "version": 3
   },
   "file_extension": ".py",
   "mimetype": "text/x-python",
   "name": "python",
   "nbconvert_exporter": "python",
   "pygments_lexer": "ipython3",
   "version": "3.6.2"
  }
 },
 "nbformat": 4,
 "nbformat_minor": 2
}
